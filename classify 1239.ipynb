{
 "cells": [
  {
   "cell_type": "code",
   "execution_count": 34,
   "id": "59fd7994-b0d9-44f5-a3ca-a5ce8ab4fdb2",
   "metadata": {},
   "outputs": [
    {
     "name": "stdout",
     "output_type": "stream",
     "text": [
      "=== Testing All Numbers ===\n",
      "[[1 1 1 1 0 1 1 0 1 1 0 1 1 1 1]]\n",
      "Expected: 0, Recognized: [0]\n",
      "[[0 1 0 1 1 0 0 1 0 0 1 0 1 1 1]]\n",
      "Expected: 1, Recognized: [1]\n",
      "[[1 1 1 0 0 1 1 1 1 1 0 0 1 1 1]]\n",
      "Expected: 2, Recognized: [2]\n",
      "[[1 1 1 0 0 1 0 1 1 0 0 1 1 1 1]]\n",
      "Expected: 39, Recognized: [39]\n"
     ]
    }
   ],
   "source": [
    "import numpy as np\n",
    "from sklearn.neural_network import MLPClassifier\n",
    "\n",
    "# Step 1: Define digit patterns (5x3) as binary matrices\n",
    "digits = {\n",
    "    0: [\n",
    "        [1, 1, 1],\n",
    "        [1, 0, 1],\n",
    "        [1, 0, 1],\n",
    "        [1, 0, 1],\n",
    "        [1, 1, 1],\n",
    "    ],\n",
    "    1: [\n",
    "        [0, 1, 0],\n",
    "        [1, 1, 0],\n",
    "        [0, 1, 0],\n",
    "        [0, 1, 0],\n",
    "        [1, 1, 1],\n",
    "    ],\n",
    "    2: [\n",
    "        [1, 1, 1],\n",
    "        [0, 0, 1],\n",
    "        [1, 1, 1],\n",
    "        [1, 0, 0],\n",
    "        [1, 1, 1],\n",
    "    ],\n",
    "    39: [\n",
    "        [1, 1, 1],\n",
    "        [0, 0, 1],\n",
    "        [0, 1, 1],\n",
    "        [0, 0, 1],\n",
    "        [1, 1, 1],\n",
    "    ]\n",
    "}\n",
    "\n",
    "# Step 2: Prepare training data\n",
    "X = []\n",
    "y = []\n",
    "\n",
    "for label, matrix in digits.items():\n",
    "    flat = np.array(matrix).flatten()\n",
    "    X.append(flat)\n",
    "    y.append(label)\n",
    "\n",
    "# Step 3: Train the model\n",
    "clf = MLPClassifier(hidden_layer_sizes=(10,), max_iter=1000, random_state=42)\n",
    "clf.fit(X, y)\n",
    "\n",
    "# Step 4: Recognition function\n",
    "def recognize_digit(matrix):\n",
    "    flat = np.array(matrix).flatten().reshape(1, -1)\n",
    "    print(flat)\n",
    "    prediction = clf.predict(flat)\n",
    "    return prediction[0]\n",
    "\n",
    "# Step 5: Test all digit matrices\n",
    "print(\"=== Testing All Numbers ===\")\n",
    "for label, matrix in digits.items():\n",
    "    result = recognize_digit(matrix)\n",
    "    print(f\"Expected: {label}, Recognized: {result}\")\n"
   ]
  },
  {
   "cell_type": "code",
   "execution_count": null,
   "id": "f782b104-d21e-42d7-a44d-8b979a7c798a",
   "metadata": {},
   "outputs": [],
   "source": []
  },
  {
   "cell_type": "code",
   "execution_count": null,
   "id": "4692f9d4-a7bf-4e1c-97e6-369133537c92",
   "metadata": {},
   "outputs": [],
   "source": []
  }
 ],
 "metadata": {
  "kernelspec": {
   "display_name": "Python [conda env:base] *",
   "language": "python",
   "name": "conda-base-py"
  },
  "language_info": {
   "codemirror_mode": {
    "name": "ipython",
    "version": 3
   },
   "file_extension": ".py",
   "mimetype": "text/x-python",
   "name": "python",
   "nbconvert_exporter": "python",
   "pygments_lexer": "ipython3",
   "version": "3.12.3"
  }
 },
 "nbformat": 4,
 "nbformat_minor": 5
}
