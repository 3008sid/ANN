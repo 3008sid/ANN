{
 "cells": [
  {
   "cell_type": "code",
   "execution_count": 1,
   "id": "ae81cdc6-aa36-414d-a9b2-fa1d9c149246",
   "metadata": {},
   "outputs": [
    {
     "name": "stdout",
     "output_type": "stream",
     "text": [
      "Updated Output Weights:\n",
      " [[0.2097756 ]\n",
      " [0.8157963 ]\n",
      " [0.94055857]\n",
      " [0.84703625]]\n",
      "Updated Output Bias:\n",
      " [[0.63552511]]\n",
      "Updated Hidden Weights:\n",
      " [[0.46921609 0.01393792 0.07399215 0.11076082]\n",
      " [0.59760735 0.82523475 0.90413039 0.30136059]\n",
      " [0.63406203 0.50269977 0.53290754 0.08100547]]\n",
      "Updated Hidden Bias:\n",
      " [[0.7361879  0.21834027 0.16642478 0.21718861]]\n"
     ]
    }
   ],
   "source": [
    "import numpy as np\n",
    "\n",
    "# Sigmoid activation function\n",
    "def sigmoid(x):\n",
    "    return 1 / (1 + np.exp(-x))\n",
    "\n",
    "# Sigmoid derivative (used for backpropagation)\n",
    "def sigmoid_derivative(x):\n",
    "    return x * (1 - x)\n",
    "\n",
    "# Backward propagation\n",
    "def backward_propagation(X, y, hidden_layer_output, predicted_output, hidden_weights, output_weights, hidden_bias, output_bias, learning_rate):\n",
    "  \n",
    "    # Step 1: Compute error (difference between expected and predicted output)\n",
    "    error = y - predicted_output\n",
    "    \n",
    "    # Step 2: Compute derivative of the output layer\n",
    "    d_predicted_output = error * sigmoid_derivative(predicted_output)\n",
    "    \n",
    "    # Step 3: Compute error for hidden layer\n",
    "    error_hidden_layer = d_predicted_output.dot(output_weights.T)\n",
    "    d_hidden_layer = error_hidden_layer * sigmoid_derivative(hidden_layer_output)\n",
    "    \n",
    "    # Step 4: Update weights and biases using gradient descent\n",
    "    output_weights += hidden_layer_output.T.dot(d_predicted_output) * learning_rate\n",
    "    output_bias += np.sum(d_predicted_output, axis=0, keepdims=True) * learning_rate\n",
    "    hidden_weights += X.T.dot(d_hidden_layer) * learning_rate\n",
    "    hidden_bias += np.sum(d_hidden_layer, axis=0, keepdims=True) * learning_rate\n",
    "    \n",
    "    return hidden_weights, hidden_bias, output_weights, output_bias\n",
    "\n",
    "# Example usage (for XOR problem)\n",
    "if __name__ == \"__main__\":\n",
    "    # Input data (XOR problem)\n",
    "    X = np.array([[0, 0, 1], [0, 1, 1], [1, 0, 1], [1, 1, 1]])\n",
    "    y = np.array([[0], [1], [1], [0]])  # XOR output\n",
    "    \n",
    "    # Randomly initialized weights and biases\n",
    "    hidden_weights = np.random.uniform(size=(X.shape[1], 4))  # 4 neurons in hidden layer\n",
    "    hidden_bias = np.random.uniform(size=(1, 4))\n",
    "    output_weights = np.random.uniform(size=(4, 1))  # 1 neuron in output layer\n",
    "    output_bias = np.random.uniform(size=(1, 1))\n",
    "    \n",
    "    # Forward propagation to get hidden layer output and predicted output\n",
    "    hidden_layer_activation = np.dot(X, hidden_weights) + hidden_bias\n",
    "    hidden_layer_output = sigmoid(hidden_layer_activation)\n",
    "    output_layer_activation = np.dot(hidden_layer_output, output_weights) + output_bias\n",
    "    predicted_output = sigmoid(output_layer_activation)\n",
    "    \n",
    "    # Perform backward propagation to update weights and biases\n",
    "    learning_rate = 0.1\n",
    "    hidden_weights, hidden_bias, output_weights, output_bias = backward_propagation(\n",
    "        X, y, hidden_layer_output, predicted_output, hidden_weights, output_weights, hidden_bias, output_bias, learning_rate)\n",
    "    \n",
    "    # Output updated weights and biases\n",
    "    print(\"Updated Output Weights:\\n\", output_weights)\n",
    "    print(\"Updated Output Bias:\\n\", output_bias)\n",
    "    print(\"Updated Hidden Weights:\\n\", hidden_weights)\n",
    "    print(\"Updated Hidden Bias:\\n\", hidden_bias)\n"
   ]
  },
  {
   "cell_type": "code",
   "execution_count": null,
   "id": "12f0e2ca-b607-453a-80bd-6b4eb87944d9",
   "metadata": {},
   "outputs": [],
   "source": []
  }
 ],
 "metadata": {
  "kernelspec": {
   "display_name": "Python [conda env:base] *",
   "language": "python",
   "name": "conda-base-py"
  },
  "language_info": {
   "codemirror_mode": {
    "name": "ipython",
    "version": 3
   },
   "file_extension": ".py",
   "mimetype": "text/x-python",
   "name": "python",
   "nbconvert_exporter": "python",
   "pygments_lexer": "ipython3",
   "version": "3.12.3"
  }
 },
 "nbformat": 4,
 "nbformat_minor": 5
}
